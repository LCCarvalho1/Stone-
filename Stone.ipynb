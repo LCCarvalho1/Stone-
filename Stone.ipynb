{
 "cells": [
  {
   "cell_type": "code",
   "execution_count": 2,
   "metadata": {},
   "outputs": [],
   "source": [
    "# Importando as bibliotecas utilizadas\n",
    "import pandas as pd\n",
    "import matplotlib.pyplot as plt\n",
    "\n",
    "\n",
    "\n"
   ]
  },
  {
   "cell_type": "markdown",
   "metadata": {},
   "source": [
    "# What is the average age of the customers in the database?"
   ]
  },
  {
   "cell_type": "code",
   "execution_count": 4,
   "metadata": {},
   "outputs": [
    {
     "data": {
      "text/html": [
       "<div>\n",
       "<style scoped>\n",
       "    .dataframe tbody tr th:only-of-type {\n",
       "        vertical-align: middle;\n",
       "    }\n",
       "\n",
       "    .dataframe tbody tr th {\n",
       "        vertical-align: top;\n",
       "    }\n",
       "\n",
       "    .dataframe thead th {\n",
       "        text-align: right;\n",
       "    }\n",
       "</style>\n",
       "<table border=\"1\" class=\"dataframe\">\n",
       "  <thead>\n",
       "    <tr style=\"text-align: right;\">\n",
       "      <th></th>\n",
       "      <th>id</th>\n",
       "      <th>age</th>\n",
       "      <th>segment</th>\n",
       "      <th>vintage_group</th>\n",
       "    </tr>\n",
       "  </thead>\n",
       "  <tbody>\n",
       "    <tr>\n",
       "      <th>0</th>\n",
       "      <td>CC25034</td>\n",
       "      <td>35</td>\n",
       "      <td>Diamond</td>\n",
       "      <td>VG1</td>\n",
       "    </tr>\n",
       "    <tr>\n",
       "      <th>1</th>\n",
       "      <td>CC59625</td>\n",
       "      <td>22</td>\n",
       "      <td>Diamond</td>\n",
       "      <td>VG1</td>\n",
       "    </tr>\n",
       "    <tr>\n",
       "      <th>2</th>\n",
       "      <td>CC69314</td>\n",
       "      <td>33</td>\n",
       "      <td>Diamond</td>\n",
       "      <td>VG1</td>\n",
       "    </tr>\n",
       "    <tr>\n",
       "      <th>3</th>\n",
       "      <td>CC67036</td>\n",
       "      <td>46</td>\n",
       "      <td>Diamond</td>\n",
       "      <td>VG1</td>\n",
       "    </tr>\n",
       "    <tr>\n",
       "      <th>4</th>\n",
       "      <td>CC25597</td>\n",
       "      <td>44</td>\n",
       "      <td>Diamond</td>\n",
       "      <td>VG1</td>\n",
       "    </tr>\n",
       "    <tr>\n",
       "      <th>...</th>\n",
       "      <td>...</td>\n",
       "      <td>...</td>\n",
       "      <td>...</td>\n",
       "      <td>...</td>\n",
       "    </tr>\n",
       "    <tr>\n",
       "      <th>5669</th>\n",
       "      <td>CC53430</td>\n",
       "      <td>27</td>\n",
       "      <td>Platinum</td>\n",
       "      <td>VG2</td>\n",
       "    </tr>\n",
       "    <tr>\n",
       "      <th>5670</th>\n",
       "      <td>CC31823</td>\n",
       "      <td>33</td>\n",
       "      <td>Platinum</td>\n",
       "      <td>VG2</td>\n",
       "    </tr>\n",
       "    <tr>\n",
       "      <th>5671</th>\n",
       "      <td>CC15335</td>\n",
       "      <td>28</td>\n",
       "      <td>Platinum</td>\n",
       "      <td>VG2</td>\n",
       "    </tr>\n",
       "    <tr>\n",
       "      <th>5672</th>\n",
       "      <td>CC81556</td>\n",
       "      <td>26</td>\n",
       "      <td>Platinum</td>\n",
       "      <td>VG2</td>\n",
       "    </tr>\n",
       "    <tr>\n",
       "      <th>5673</th>\n",
       "      <td>CC38634</td>\n",
       "      <td>21</td>\n",
       "      <td>Platinum</td>\n",
       "      <td>VG2</td>\n",
       "    </tr>\n",
       "  </tbody>\n",
       "</table>\n",
       "<p>5674 rows × 4 columns</p>\n",
       "</div>"
      ],
      "text/plain": [
       "           id  age   segment vintage_group\n",
       "0     CC25034   35   Diamond           VG1\n",
       "1     CC59625   22   Diamond           VG1\n",
       "2     CC69314   33   Diamond           VG1\n",
       "3     CC67036   46   Diamond           VG1\n",
       "4     CC25597   44   Diamond           VG1\n",
       "...       ...  ...       ...           ...\n",
       "5669  CC53430   27  Platinum           VG2\n",
       "5670  CC31823   33  Platinum           VG2\n",
       "5671  CC15335   28  Platinum           VG2\n",
       "5672  CC81556   26  Platinum           VG2\n",
       "5673  CC38634   21  Platinum           VG2\n",
       "\n",
       "[5674 rows x 4 columns]"
      ]
     },
     "execution_count": 4,
     "metadata": {},
     "output_type": "execute_result"
    }
   ],
   "source": [
    "customers = pd.read_csv('customers.csv', sep = ';')\n",
    "\n",
    "customers"
   ]
  },
  {
   "cell_type": "code",
   "execution_count": 5,
   "metadata": {
    "scrolled": true
   },
   "outputs": [
    {
     "data": {
      "text/plain": [
       "35.059922453295734"
      ]
     },
     "execution_count": 5,
     "metadata": {},
     "output_type": "execute_result"
    }
   ],
   "source": [
    "pd.DataFrame( customers )['age'].mean() # média das idades dos clientes "
   ]
  },
  {
   "cell_type": "markdown",
   "metadata": {},
   "source": [
    "# How is the card_family ranked based on the credit_limit given to each card?"
   ]
  },
  {
   "cell_type": "code",
   "execution_count": 6,
   "metadata": {},
   "outputs": [
    {
     "data": {
      "text/html": [
       "<div>\n",
       "<style scoped>\n",
       "    .dataframe tbody tr th:only-of-type {\n",
       "        vertical-align: middle;\n",
       "    }\n",
       "\n",
       "    .dataframe tbody tr th {\n",
       "        vertical-align: top;\n",
       "    }\n",
       "\n",
       "    .dataframe thead th {\n",
       "        text-align: right;\n",
       "    }\n",
       "</style>\n",
       "<table border=\"1\" class=\"dataframe\">\n",
       "  <thead>\n",
       "    <tr style=\"text-align: right;\">\n",
       "      <th></th>\n",
       "      <th>credit_limit</th>\n",
       "    </tr>\n",
       "    <tr>\n",
       "      <th>card_family</th>\n",
       "      <th></th>\n",
       "    </tr>\n",
       "  </thead>\n",
       "  <tbody>\n",
       "    <tr>\n",
       "      <th>Gold</th>\n",
       "      <td>50000</td>\n",
       "    </tr>\n",
       "    <tr>\n",
       "      <th>Platinum</th>\n",
       "      <td>200000</td>\n",
       "    </tr>\n",
       "    <tr>\n",
       "      <th>Premium</th>\n",
       "      <td>899000</td>\n",
       "    </tr>\n",
       "  </tbody>\n",
       "</table>\n",
       "</div>"
      ],
      "text/plain": [
       "             credit_limit\n",
       "card_family              \n",
       "Gold                50000\n",
       "Platinum           200000\n",
       "Premium            899000"
      ]
     },
     "execution_count": 6,
     "metadata": {},
     "output_type": "execute_result"
    }
   ],
   "source": [
    "cards = pd.read_csv('cards.csv', sep = ';')\n",
    "\n",
    "cards[['credit_limit', 'card_family']].groupby('card_family').max() \n",
    "# valor máximo por família de cartão"
   ]
  },
  {
   "cell_type": "code",
   "execution_count": 7,
   "metadata": {
    "scrolled": true
   },
   "outputs": [
    {
     "data": {
      "text/html": [
       "<div>\n",
       "<style scoped>\n",
       "    .dataframe tbody tr th:only-of-type {\n",
       "        vertical-align: middle;\n",
       "    }\n",
       "\n",
       "    .dataframe tbody tr th {\n",
       "        vertical-align: top;\n",
       "    }\n",
       "\n",
       "    .dataframe thead th {\n",
       "        text-align: right;\n",
       "    }\n",
       "</style>\n",
       "<table border=\"1\" class=\"dataframe\">\n",
       "  <thead>\n",
       "    <tr style=\"text-align: right;\">\n",
       "      <th></th>\n",
       "      <th>credit_limit</th>\n",
       "    </tr>\n",
       "    <tr>\n",
       "      <th>card_family</th>\n",
       "      <th></th>\n",
       "    </tr>\n",
       "  </thead>\n",
       "  <tbody>\n",
       "    <tr>\n",
       "      <th>Gold</th>\n",
       "      <td>2000</td>\n",
       "    </tr>\n",
       "    <tr>\n",
       "      <th>Platinum</th>\n",
       "      <td>51000</td>\n",
       "    </tr>\n",
       "    <tr>\n",
       "      <th>Premium</th>\n",
       "      <td>108000</td>\n",
       "    </tr>\n",
       "  </tbody>\n",
       "</table>\n",
       "</div>"
      ],
      "text/plain": [
       "             credit_limit\n",
       "card_family              \n",
       "Gold                 2000\n",
       "Platinum            51000\n",
       "Premium            108000"
      ]
     },
     "execution_count": 7,
     "metadata": {},
     "output_type": "execute_result"
    }
   ],
   "source": [
    "cards[['credit_limit', 'card_family']].groupby('card_family').min() \n",
    "# valor mínimo por família"
   ]
  },
  {
   "cell_type": "code",
   "execution_count": 55,
   "metadata": {},
   "outputs": [],
   "source": [
    "# Família do cartão de acordo com o limite de crédito:\n",
    "# 2000 < Gold < 50000\n",
    "# 51000 < Platinum < 107000\n",
    "# 108000 < Platinum ou Premium < 200000\n",
    "# 2001000 < Premium < 899000"
   ]
  },
  {
   "cell_type": "markdown",
   "metadata": {},
   "source": [
    "# For the transactions flagged as fraud, what are the ids of the transactions with the highest value?"
   ]
  },
  {
   "cell_type": "code",
   "execution_count": 9,
   "metadata": {},
   "outputs": [
    {
     "data": {
      "text/html": [
       "<div>\n",
       "<style scoped>\n",
       "    .dataframe tbody tr th:only-of-type {\n",
       "        vertical-align: middle;\n",
       "    }\n",
       "\n",
       "    .dataframe tbody tr th {\n",
       "        vertical-align: top;\n",
       "    }\n",
       "\n",
       "    .dataframe thead th {\n",
       "        text-align: right;\n",
       "    }\n",
       "</style>\n",
       "<table border=\"1\" class=\"dataframe\">\n",
       "  <thead>\n",
       "    <tr style=\"text-align: right;\">\n",
       "      <th></th>\n",
       "      <th>transaction_id</th>\n",
       "      <th>fraud_flag</th>\n",
       "    </tr>\n",
       "  </thead>\n",
       "  <tbody>\n",
       "    <tr>\n",
       "      <th>0</th>\n",
       "      <td>CTID50558449</td>\n",
       "      <td>True</td>\n",
       "    </tr>\n",
       "    <tr>\n",
       "      <th>1</th>\n",
       "      <td>CTID55936882</td>\n",
       "      <td>True</td>\n",
       "    </tr>\n",
       "    <tr>\n",
       "      <th>2</th>\n",
       "      <td>CTID63762180</td>\n",
       "      <td>True</td>\n",
       "    </tr>\n",
       "    <tr>\n",
       "      <th>3</th>\n",
       "      <td>CTID76723439</td>\n",
       "      <td>True</td>\n",
       "    </tr>\n",
       "    <tr>\n",
       "      <th>4</th>\n",
       "      <td>CTID21246201</td>\n",
       "      <td>True</td>\n",
       "    </tr>\n",
       "    <tr>\n",
       "      <th>...</th>\n",
       "      <td>...</td>\n",
       "      <td>...</td>\n",
       "    </tr>\n",
       "    <tr>\n",
       "      <th>104</th>\n",
       "      <td>CTID57993591</td>\n",
       "      <td>True</td>\n",
       "    </tr>\n",
       "    <tr>\n",
       "      <th>105</th>\n",
       "      <td>CTID91108283</td>\n",
       "      <td>True</td>\n",
       "    </tr>\n",
       "    <tr>\n",
       "      <th>106</th>\n",
       "      <td>CTID30494187</td>\n",
       "      <td>True</td>\n",
       "    </tr>\n",
       "    <tr>\n",
       "      <th>107</th>\n",
       "      <td>CTID51301522</td>\n",
       "      <td>True</td>\n",
       "    </tr>\n",
       "    <tr>\n",
       "      <th>108</th>\n",
       "      <td>CTID49517337</td>\n",
       "      <td>True</td>\n",
       "    </tr>\n",
       "  </tbody>\n",
       "</table>\n",
       "<p>109 rows × 2 columns</p>\n",
       "</div>"
      ],
      "text/plain": [
       "    transaction_id  fraud_flag\n",
       "0     CTID50558449        True\n",
       "1     CTID55936882        True\n",
       "2     CTID63762180        True\n",
       "3     CTID76723439        True\n",
       "4     CTID21246201        True\n",
       "..             ...         ...\n",
       "104   CTID57993591        True\n",
       "105   CTID91108283        True\n",
       "106   CTID30494187        True\n",
       "107   CTID51301522        True\n",
       "108   CTID49517337        True\n",
       "\n",
       "[109 rows x 2 columns]"
      ]
     },
     "execution_count": 9,
     "metadata": {},
     "output_type": "execute_result"
    }
   ],
   "source": [
    "frauds = pd.read_csv('frauds.csv', sep = ';') # tabela das fraudes\n",
    "\n",
    "frauds"
   ]
  },
  {
   "cell_type": "code",
   "execution_count": 10,
   "metadata": {
    "scrolled": false
   },
   "outputs": [
    {
     "data": {
      "text/html": [
       "<div>\n",
       "<style scoped>\n",
       "    .dataframe tbody tr th:only-of-type {\n",
       "        vertical-align: middle;\n",
       "    }\n",
       "\n",
       "    .dataframe tbody tr th {\n",
       "        vertical-align: top;\n",
       "    }\n",
       "\n",
       "    .dataframe thead th {\n",
       "        text-align: right;\n",
       "    }\n",
       "</style>\n",
       "<table border=\"1\" class=\"dataframe\">\n",
       "  <thead>\n",
       "    <tr style=\"text-align: right;\">\n",
       "      <th></th>\n",
       "      <th>id</th>\n",
       "      <th>card_number</th>\n",
       "      <th>transaction_date</th>\n",
       "      <th>value</th>\n",
       "      <th>segment</th>\n",
       "    </tr>\n",
       "  </thead>\n",
       "  <tbody>\n",
       "    <tr>\n",
       "      <th>0</th>\n",
       "      <td>CTID28830551</td>\n",
       "      <td>1629-9566-3285-2123</td>\n",
       "      <td>2016-04-24</td>\n",
       "      <td>23649</td>\n",
       "      <td>SEG25</td>\n",
       "    </tr>\n",
       "    <tr>\n",
       "      <th>1</th>\n",
       "      <td>CTID45504917</td>\n",
       "      <td>3697-6001-4909-5350</td>\n",
       "      <td>2016-02-11</td>\n",
       "      <td>26726</td>\n",
       "      <td>SEG16</td>\n",
       "    </tr>\n",
       "    <tr>\n",
       "      <th>2</th>\n",
       "      <td>CTID47312290</td>\n",
       "      <td>5864-4475-3659-1440</td>\n",
       "      <td>2016-11-01</td>\n",
       "      <td>22012</td>\n",
       "      <td>SEG14</td>\n",
       "    </tr>\n",
       "    <tr>\n",
       "      <th>3</th>\n",
       "      <td>CTID25637718</td>\n",
       "      <td>5991-4421-8476-3804</td>\n",
       "      <td>2016-01-28</td>\n",
       "      <td>37637</td>\n",
       "      <td>SEG17</td>\n",
       "    </tr>\n",
       "    <tr>\n",
       "      <th>4</th>\n",
       "      <td>CTID66743960</td>\n",
       "      <td>1893-8853-9900-8478</td>\n",
       "      <td>2016-03-17</td>\n",
       "      <td>5113</td>\n",
       "      <td>SEG14</td>\n",
       "    </tr>\n",
       "    <tr>\n",
       "      <th>...</th>\n",
       "      <td>...</td>\n",
       "      <td>...</td>\n",
       "      <td>...</td>\n",
       "      <td>...</td>\n",
       "      <td>...</td>\n",
       "    </tr>\n",
       "    <tr>\n",
       "      <th>9995</th>\n",
       "      <td>CTID25037573</td>\n",
       "      <td>9157-2802-8374-1145</td>\n",
       "      <td>2016-06-10</td>\n",
       "      <td>44280</td>\n",
       "      <td>SEG18</td>\n",
       "    </tr>\n",
       "    <tr>\n",
       "      <th>9996</th>\n",
       "      <td>CTID43832298</td>\n",
       "      <td>7416-4529-6690-5703</td>\n",
       "      <td>2016-05-23</td>\n",
       "      <td>27163</td>\n",
       "      <td>SEG12</td>\n",
       "    </tr>\n",
       "    <tr>\n",
       "      <th>9997</th>\n",
       "      <td>CTID56532072</td>\n",
       "      <td>6699-2639-4522-6219</td>\n",
       "      <td>2016-08-06</td>\n",
       "      <td>36424</td>\n",
       "      <td>SEG13</td>\n",
       "    </tr>\n",
       "    <tr>\n",
       "      <th>9998</th>\n",
       "      <td>CTID88101446</td>\n",
       "      <td>8341-5263-4582-7396</td>\n",
       "      <td>2016-10-10</td>\n",
       "      <td>8464</td>\n",
       "      <td>SEG14</td>\n",
       "    </tr>\n",
       "    <tr>\n",
       "      <th>9999</th>\n",
       "      <td>CTID64730271</td>\n",
       "      <td>1947-8602-1695-7503</td>\n",
       "      <td>2016-06-18</td>\n",
       "      <td>7606</td>\n",
       "      <td>SEG15</td>\n",
       "    </tr>\n",
       "  </tbody>\n",
       "</table>\n",
       "<p>10000 rows × 5 columns</p>\n",
       "</div>"
      ],
      "text/plain": [
       "                id          card_number transaction_date  value segment\n",
       "0     CTID28830551  1629-9566-3285-2123       2016-04-24  23649   SEG25\n",
       "1     CTID45504917  3697-6001-4909-5350       2016-02-11  26726   SEG16\n",
       "2     CTID47312290  5864-4475-3659-1440       2016-11-01  22012   SEG14\n",
       "3     CTID25637718  5991-4421-8476-3804       2016-01-28  37637   SEG17\n",
       "4     CTID66743960  1893-8853-9900-8478       2016-03-17   5113   SEG14\n",
       "...            ...                  ...              ...    ...     ...\n",
       "9995  CTID25037573  9157-2802-8374-1145       2016-06-10  44280   SEG18\n",
       "9996  CTID43832298  7416-4529-6690-5703       2016-05-23  27163   SEG12\n",
       "9997  CTID56532072  6699-2639-4522-6219       2016-08-06  36424   SEG13\n",
       "9998  CTID88101446  8341-5263-4582-7396       2016-10-10   8464   SEG14\n",
       "9999  CTID64730271  1947-8602-1695-7503       2016-06-18   7606   SEG15\n",
       "\n",
       "[10000 rows x 5 columns]"
      ]
     },
     "execution_count": 10,
     "metadata": {},
     "output_type": "execute_result"
    }
   ],
   "source": [
    "transactions = pd.read_csv('transactions.csv', sep = ';') # tabela das transações\n",
    "\n",
    "transactions"
   ]
  },
  {
   "cell_type": "code",
   "execution_count": 11,
   "metadata": {
    "scrolled": false
   },
   "outputs": [
    {
     "data": {
      "text/html": [
       "<div>\n",
       "<style scoped>\n",
       "    .dataframe tbody tr th:only-of-type {\n",
       "        vertical-align: middle;\n",
       "    }\n",
       "\n",
       "    .dataframe tbody tr th {\n",
       "        vertical-align: top;\n",
       "    }\n",
       "\n",
       "    .dataframe thead th {\n",
       "        text-align: right;\n",
       "    }\n",
       "</style>\n",
       "<table border=\"1\" class=\"dataframe\">\n",
       "  <thead>\n",
       "    <tr style=\"text-align: right;\">\n",
       "      <th></th>\n",
       "      <th>id</th>\n",
       "      <th>value</th>\n",
       "    </tr>\n",
       "  </thead>\n",
       "  <tbody>\n",
       "    <tr>\n",
       "      <th>600</th>\n",
       "      <td>CTID20567160</td>\n",
       "      <td>49155</td>\n",
       "    </tr>\n",
       "    <tr>\n",
       "      <th>9619</th>\n",
       "      <td>CTID15034243</td>\n",
       "      <td>48845</td>\n",
       "    </tr>\n",
       "    <tr>\n",
       "      <th>4552</th>\n",
       "      <td>CTID95884307</td>\n",
       "      <td>48588</td>\n",
       "    </tr>\n",
       "    <tr>\n",
       "      <th>646</th>\n",
       "      <td>CTID54759604</td>\n",
       "      <td>48567</td>\n",
       "    </tr>\n",
       "    <tr>\n",
       "      <th>4142</th>\n",
       "      <td>CTID55429304</td>\n",
       "      <td>48514</td>\n",
       "    </tr>\n",
       "    <tr>\n",
       "      <th>2529</th>\n",
       "      <td>CTID29469747</td>\n",
       "      <td>48453</td>\n",
       "    </tr>\n",
       "    <tr>\n",
       "      <th>494</th>\n",
       "      <td>CTID76723439</td>\n",
       "      <td>48275</td>\n",
       "    </tr>\n",
       "    <tr>\n",
       "      <th>6387</th>\n",
       "      <td>CTID85085771</td>\n",
       "      <td>48186</td>\n",
       "    </tr>\n",
       "    <tr>\n",
       "      <th>2214</th>\n",
       "      <td>CTID25962688</td>\n",
       "      <td>45807</td>\n",
       "    </tr>\n",
       "    <tr>\n",
       "      <th>2009</th>\n",
       "      <td>CTID60575167</td>\n",
       "      <td>45760</td>\n",
       "    </tr>\n",
       "  </tbody>\n",
       "</table>\n",
       "</div>"
      ],
      "text/plain": [
       "                id  value\n",
       "600   CTID20567160  49155\n",
       "9619  CTID15034243  48845\n",
       "4552  CTID95884307  48588\n",
       "646   CTID54759604  48567\n",
       "4142  CTID55429304  48514\n",
       "2529  CTID29469747  48453\n",
       "494   CTID76723439  48275\n",
       "6387  CTID85085771  48186\n",
       "2214  CTID25962688  45807\n",
       "2009  CTID60575167  45760"
      ]
     },
     "execution_count": 11,
     "metadata": {},
     "output_type": "execute_result"
    }
   ],
   "source": [
    "transactions_frauds = transactions.loc[transactions['id'].isin(frauds['transaction_id'])] \n",
    "# selecionando apenas as transações que houveram fraude\n",
    "\n",
    "transactions_frauds[['id', 'value']].sort_values( by='value', ascending=False ).head(10) \n",
    "# exibindo as ids das transações fraudulentas com maior valor\n"
   ]
  },
  {
   "cell_type": "markdown",
   "metadata": {},
   "source": [
    "# Analyze whether or not the fraudulent transactions are somehow associated to the other features of the dataset. Explain your results."
   ]
  },
  {
   "cell_type": "code",
   "execution_count": 13,
   "metadata": {
    "scrolled": false
   },
   "outputs": [
    {
     "data": {
      "text/html": [
       "<div>\n",
       "<style scoped>\n",
       "    .dataframe tbody tr th:only-of-type {\n",
       "        vertical-align: middle;\n",
       "    }\n",
       "\n",
       "    .dataframe tbody tr th {\n",
       "        vertical-align: top;\n",
       "    }\n",
       "\n",
       "    .dataframe thead th {\n",
       "        text-align: right;\n",
       "    }\n",
       "</style>\n",
       "<table border=\"1\" class=\"dataframe\">\n",
       "  <thead>\n",
       "    <tr style=\"text-align: right;\">\n",
       "      <th></th>\n",
       "      <th>card_number</th>\n",
       "      <th>card_family</th>\n",
       "      <th>credit_limit</th>\n",
       "      <th>customer_id</th>\n",
       "    </tr>\n",
       "  </thead>\n",
       "  <tbody>\n",
       "    <tr>\n",
       "      <th>14</th>\n",
       "      <td>7214-4915-6387-5429</td>\n",
       "      <td>Platinum</td>\n",
       "      <td>172000</td>\n",
       "      <td>CC72302</td>\n",
       "    </tr>\n",
       "    <tr>\n",
       "      <th>18</th>\n",
       "      <td>6239-8641-8524-9441</td>\n",
       "      <td>Gold</td>\n",
       "      <td>26000</td>\n",
       "      <td>CC18438</td>\n",
       "    </tr>\n",
       "    <tr>\n",
       "      <th>22</th>\n",
       "      <td>6228-9033-3508-8121</td>\n",
       "      <td>Gold</td>\n",
       "      <td>33000</td>\n",
       "      <td>CC36771</td>\n",
       "    </tr>\n",
       "    <tr>\n",
       "      <th>23</th>\n",
       "      <td>1466-1600-9312-7604</td>\n",
       "      <td>Premium</td>\n",
       "      <td>249000</td>\n",
       "      <td>CC60926</td>\n",
       "    </tr>\n",
       "    <tr>\n",
       "      <th>26</th>\n",
       "      <td>7586-6475-9618-3909</td>\n",
       "      <td>Gold</td>\n",
       "      <td>37000</td>\n",
       "      <td>CC51908</td>\n",
       "    </tr>\n",
       "    <tr>\n",
       "      <th>...</th>\n",
       "      <td>...</td>\n",
       "      <td>...</td>\n",
       "      <td>...</td>\n",
       "      <td>...</td>\n",
       "    </tr>\n",
       "    <tr>\n",
       "      <th>460</th>\n",
       "      <td>1947-8327-3848-6581</td>\n",
       "      <td>Platinum</td>\n",
       "      <td>113000</td>\n",
       "      <td>CC11690</td>\n",
       "    </tr>\n",
       "    <tr>\n",
       "      <th>461</th>\n",
       "      <td>9018-5320-5729-5393</td>\n",
       "      <td>Premium</td>\n",
       "      <td>444000</td>\n",
       "      <td>CC54582</td>\n",
       "    </tr>\n",
       "    <tr>\n",
       "      <th>463</th>\n",
       "      <td>2949-1972-1300-6680</td>\n",
       "      <td>Gold</td>\n",
       "      <td>45000</td>\n",
       "      <td>CC68567</td>\n",
       "    </tr>\n",
       "    <tr>\n",
       "      <th>472</th>\n",
       "      <td>5384-8278-5616-5502</td>\n",
       "      <td>Premium</td>\n",
       "      <td>361000</td>\n",
       "      <td>CC83124</td>\n",
       "    </tr>\n",
       "    <tr>\n",
       "      <th>482</th>\n",
       "      <td>9542-6082-9630-9970</td>\n",
       "      <td>Platinum</td>\n",
       "      <td>159000</td>\n",
       "      <td>CC66351</td>\n",
       "    </tr>\n",
       "  </tbody>\n",
       "</table>\n",
       "<p>98 rows × 4 columns</p>\n",
       "</div>"
      ],
      "text/plain": [
       "             card_number card_family  credit_limit customer_id\n",
       "14   7214-4915-6387-5429    Platinum        172000     CC72302\n",
       "18   6239-8641-8524-9441        Gold         26000     CC18438\n",
       "22   6228-9033-3508-8121        Gold         33000     CC36771\n",
       "23   1466-1600-9312-7604     Premium        249000     CC60926\n",
       "26   7586-6475-9618-3909        Gold         37000     CC51908\n",
       "..                   ...         ...           ...         ...\n",
       "460  1947-8327-3848-6581    Platinum        113000     CC11690\n",
       "461  9018-5320-5729-5393     Premium        444000     CC54582\n",
       "463  2949-1972-1300-6680        Gold         45000     CC68567\n",
       "472  5384-8278-5616-5502     Premium        361000     CC83124\n",
       "482  9542-6082-9630-9970    Platinum        159000     CC66351\n",
       "\n",
       "[98 rows x 4 columns]"
      ]
     },
     "execution_count": 13,
     "metadata": {},
     "output_type": "execute_result"
    }
   ],
   "source": [
    "cards_frauds = cards.loc[cards['card_number'].isin(transactions_frauds['card_number'])]\n",
    "# selecionando os cartões dos clientes fraudulentos\n",
    "\n",
    "cards_frauds"
   ]
  },
  {
   "cell_type": "code",
   "execution_count": 14,
   "metadata": {
    "scrolled": true
   },
   "outputs": [
    {
     "data": {
      "text/plain": [
       "card_number        \n",
       "1175-3754-1370-5515    2\n",
       "9030-1667-6058-6173    2\n",
       "7697-2274-6431-6408    2\n",
       "3620-5235-2101-3391    2\n",
       "3440-3330-5015-4988    2\n",
       "3295-6390-4452-7199    2\n",
       "8231-5519-1948-3400    2\n",
       "2017-7197-7814-9950    2\n",
       "6228-9033-3508-8121    2\n",
       "9604-6821-2861-8084    2\n",
       "1290-5480-3763-3387    2\n",
       "4856-2191-9879-6388    1\n",
       "dtype: int64"
      ]
     },
     "execution_count": 14,
     "metadata": {},
     "output_type": "execute_result"
    }
   ],
   "source": [
    "# Como a tabela do cards_frauds possui 98 linhas \n",
    "# e a tabela frauds(tabela das transações fradulentas) tem 109 linhas\n",
    "# temos indícios que temos clientes que fizeram mais de uma transação fraudulenta\n",
    "\n",
    "\n",
    "transactions_frauds[['card_number']].value_counts().head(12)\n",
    "# Confirmando e exibindo os cartões que tiveram mais de uma transação fraudulenta"
   ]
  },
  {
   "cell_type": "code",
   "execution_count": 16,
   "metadata": {},
   "outputs": [
    {
     "data": {
      "text/html": [
       "<div>\n",
       "<style scoped>\n",
       "    .dataframe tbody tr th:only-of-type {\n",
       "        vertical-align: middle;\n",
       "    }\n",
       "\n",
       "    .dataframe tbody tr th {\n",
       "        vertical-align: top;\n",
       "    }\n",
       "\n",
       "    .dataframe thead th {\n",
       "        text-align: right;\n",
       "    }\n",
       "</style>\n",
       "<table border=\"1\" class=\"dataframe\">\n",
       "  <thead>\n",
       "    <tr style=\"text-align: right;\">\n",
       "      <th></th>\n",
       "      <th>id</th>\n",
       "      <th>age</th>\n",
       "      <th>segment</th>\n",
       "      <th>vintage_group</th>\n",
       "    </tr>\n",
       "  </thead>\n",
       "  <tbody>\n",
       "    <tr>\n",
       "      <th>143</th>\n",
       "      <td>CC35402</td>\n",
       "      <td>26</td>\n",
       "      <td>Diamond</td>\n",
       "      <td>VG1</td>\n",
       "    </tr>\n",
       "    <tr>\n",
       "      <th>173</th>\n",
       "      <td>CC42497</td>\n",
       "      <td>23</td>\n",
       "      <td>Diamond</td>\n",
       "      <td>VG1</td>\n",
       "    </tr>\n",
       "    <tr>\n",
       "      <th>209</th>\n",
       "      <td>CC41731</td>\n",
       "      <td>35</td>\n",
       "      <td>Diamond</td>\n",
       "      <td>VG1</td>\n",
       "    </tr>\n",
       "    <tr>\n",
       "      <th>221</th>\n",
       "      <td>CC93075</td>\n",
       "      <td>32</td>\n",
       "      <td>Diamond</td>\n",
       "      <td>VG1</td>\n",
       "    </tr>\n",
       "    <tr>\n",
       "      <th>235</th>\n",
       "      <td>CC64111</td>\n",
       "      <td>41</td>\n",
       "      <td>Diamond</td>\n",
       "      <td>VG1</td>\n",
       "    </tr>\n",
       "    <tr>\n",
       "      <th>...</th>\n",
       "      <td>...</td>\n",
       "      <td>...</td>\n",
       "      <td>...</td>\n",
       "      <td>...</td>\n",
       "    </tr>\n",
       "    <tr>\n",
       "      <th>5476</th>\n",
       "      <td>CC87034</td>\n",
       "      <td>36</td>\n",
       "      <td>Platinum</td>\n",
       "      <td>VG2</td>\n",
       "    </tr>\n",
       "    <tr>\n",
       "      <th>5534</th>\n",
       "      <td>CC87270</td>\n",
       "      <td>28</td>\n",
       "      <td>Platinum</td>\n",
       "      <td>VG2</td>\n",
       "    </tr>\n",
       "    <tr>\n",
       "      <th>5538</th>\n",
       "      <td>CC81000</td>\n",
       "      <td>25</td>\n",
       "      <td>Platinum</td>\n",
       "      <td>VG2</td>\n",
       "    </tr>\n",
       "    <tr>\n",
       "      <th>5548</th>\n",
       "      <td>CC66351</td>\n",
       "      <td>22</td>\n",
       "      <td>Platinum</td>\n",
       "      <td>VG2</td>\n",
       "    </tr>\n",
       "    <tr>\n",
       "      <th>5661</th>\n",
       "      <td>CC42937</td>\n",
       "      <td>30</td>\n",
       "      <td>Platinum</td>\n",
       "      <td>VG2</td>\n",
       "    </tr>\n",
       "  </tbody>\n",
       "</table>\n",
       "<p>97 rows × 4 columns</p>\n",
       "</div>"
      ],
      "text/plain": [
       "           id  age   segment vintage_group\n",
       "143   CC35402   26   Diamond           VG1\n",
       "173   CC42497   23   Diamond           VG1\n",
       "209   CC41731   35   Diamond           VG1\n",
       "221   CC93075   32   Diamond           VG1\n",
       "235   CC64111   41   Diamond           VG1\n",
       "...       ...  ...       ...           ...\n",
       "5476  CC87034   36  Platinum           VG2\n",
       "5534  CC87270   28  Platinum           VG2\n",
       "5538  CC81000   25  Platinum           VG2\n",
       "5548  CC66351   22  Platinum           VG2\n",
       "5661  CC42937   30  Platinum           VG2\n",
       "\n",
       "[97 rows x 4 columns]"
      ]
     },
     "execution_count": 16,
     "metadata": {},
     "output_type": "execute_result"
    }
   ],
   "source": [
    "age_frauds = customers.loc[customers['id'].isin(cards_frauds['customer_id'])]\n",
    "# Filtrando as idades dos clientes fraudulentos\n",
    "\n",
    "\n",
    "age_frauds"
   ]
  },
  {
   "cell_type": "code",
   "execution_count": 45,
   "metadata": {
    "scrolled": false
   },
   "outputs": [
    {
     "data": {
      "image/png": "[encoded data removed]",
      "text/plain": [
       "<Figure size 1080x576 with 1 Axes>"
      ]
     },
     "metadata": {
      "needs_background": "light"
     },
     "output_type": "display_data"
    }
   ],
   "source": [
    "plt.figure(figsize = (15,8))\n",
    "plt.title('idades dos fraudulentos',fontsize=30)\n",
    "plt.xlabel('idade', fontsize=20)\n",
    "plt.ylabel('frequencia por idade',fontsize=20)\n",
    "plt.tick_params(labelsize=15)\n",
    "plt.hist(age_frauds['age'] ,6 ,rwidth=0.9, color='blue', alpha=0.6, ec='k' )\n",
    "plt.show()"
   ]
  },
  {
   "cell_type": "code",
   "execution_count": 51,
   "metadata": {},
   "outputs": [
    {
     "data": {
      "text/plain": [
       "age\n",
       "30     4.166667\n",
       "42     4.022989\n",
       "41     3.723404\n",
       "29     2.604167\n",
       "32     2.439024\n",
       "22     2.380952\n",
       "39     2.339181\n",
       "24     2.234637\n",
       "48     2.173913\n",
       "23     2.162162\n",
       "35     2.139037\n",
       "26     1.796407\n",
       "33     1.764706\n",
       "31     1.724138\n",
       "37     1.621622\n",
       "36     1.538462\n",
       "50     1.477833\n",
       "27     1.401869\n",
       "46     1.149425\n",
       "34     1.117318\n",
       "43     1.111111\n",
       "49     1.081081\n",
       "38     1.052632\n",
       "47     1.047120\n",
       "20     1.036269\n",
       "25     1.020408\n",
       "28     0.609756\n",
       "44     0.584795\n",
       "21     0.584795\n",
       "45     0.546448\n",
       "40     0.531915\n",
       "dtype: float64"
      ]
     },
     "execution_count": 51,
     "metadata": {},
     "output_type": "execute_result"
    }
   ],
   "source": [
    "a = age_frauds[['age']].value_counts()\n",
    "b = customers[['age']].value_counts()\n",
    "((a/b)*100).sort_values(ascending=False)\n",
    "\n",
    "# Mostrando a porcentagem de fraudulentos por idade"
   ]
  },
  {
   "cell_type": "code",
   "execution_count": 46,
   "metadata": {},
   "outputs": [
    {
     "data": {
      "image/png": "[encoded data removed]",
      "text/plain": [
       "<Figure size 1080x576 with 1 Axes>"
      ]
     },
     "metadata": {
      "needs_background": "light"
     },
     "output_type": "display_data"
    }
   ],
   "source": [
    "plt.figure(figsize = (15,8))\n",
    "plt.title('família do cartao dos fraudulentos', fontsize=30)\n",
    "plt.xlabel('família do cartao', fontsize=20)\n",
    "plt.ylabel('quantidades de fraudulentos', fontsize=20)\n",
    "plt.tick_params(labelsize=15)\n",
    "plt.hist(cards_frauds['card_family'] ,3 ,rwidth=0.9, color='orange', alpha=0.6, ec='k' )\n",
    "plt.show()\n"
   ]
  },
  {
   "cell_type": "code",
   "execution_count": 52,
   "metadata": {},
   "outputs": [
    {
     "data": {
      "text/plain": [
       "card_family\n",
       "Platinum       20.535714\n",
       "Premium        19.806763\n",
       "Gold           18.784530\n",
       "dtype: float64"
      ]
     },
     "execution_count": 52,
     "metadata": {},
     "output_type": "execute_result"
    }
   ],
   "source": [
    "c = cards_frauds[['card_family']].value_counts()\n",
    "d = cards[['card_family']].value_counts()\n",
    "((c/d)*100).sort_values(ascending=False)\n",
    "\n",
    "#Mostrando a porcentagem de fraudes por família de cartão "
   ]
  },
  {
   "cell_type": "code",
   "execution_count": 84,
   "metadata": {
    "scrolled": false
   },
   "outputs": [
    {
     "data": {
      "image/png": "[encoded data removed]",
      "text/plain": [
       "<Figure size 1080x576 with 1 Axes>"
      ]
     },
     "metadata": {
      "needs_background": "light"
     },
     "output_type": "display_data"
    },
    {
     "data": {
      "image/png": "[encoded data removed]",
      "text/plain": [
       "<Figure size 1080x576 with 1 Axes>"
      ]
     },
     "metadata": {
      "needs_background": "light"
     },
     "output_type": "display_data"
    }
   ],
   "source": [
    "plt.figure(figsize = (15,8))\n",
    "plt.title('Valores das transações fraudulentas',fontsize=30)\n",
    "plt.xlabel('valor da transação', fontsize=20)\n",
    "plt.ylabel('qunatidade de transações',fontsize=20)\n",
    "plt.tick_params(labelsize=15)\n",
    "plt.hist(transactions[['value']] ,5 ,rwidth=0.9, color='green', alpha=0.6, ec='k' )\n",
    "plt.xticks(rotation=90)\n",
    "\n",
    "plt.figure(figsize = (15,8))\n",
    "plt.title('Valores das transações fraudulentas',fontsize=30)\n",
    "plt.xlabel('valor da transação', fontsize=20)\n",
    "plt.ylabel('qunatidade de transações',fontsize=20)\n",
    "plt.tick_params(labelsize=15)\n",
    "plt.hist(transactions_frauds[['value']] ,5 ,rwidth=0.9, color='red', alpha=0.6, ec='k' )\n",
    "plt.xticks(rotation=90)\n",
    "\n",
    "plt.show()"
   ]
  },
  {
   "cell_type": "code",
   "execution_count": 85,
   "metadata": {},
   "outputs": [],
   "source": [
    "# pelos gráficos podemos inferir que a porcentagem de transações fraudulentas \n",
    "# entre os valores de 30000 e 40000 são maiores do que nos outros intervalos"
   ]
  },
  {
   "cell_type": "code",
   "execution_count": 67,
   "metadata": {
    "scrolled": false
   },
   "outputs": [
    {
     "data": {
      "image/png": "[encoded data removed]",
      "text/plain": [
       "<Figure size 1080x576 with 1 Axes>"
      ]
     },
     "metadata": {
      "needs_background": "light"
     },
     "output_type": "display_data"
    }
   ],
   "source": [
    "plt.figure(figsize = (15,8))\n",
    "plt.title('Transações fraudulentas por segmento',fontsize=30)\n",
    "plt.xlabel('segmentos', fontsize=20)\n",
    "plt.ylabel('qunatidade de fraudes',fontsize=20)\n",
    "plt.tick_params(labelsize=15)\n",
    "plt.hist(age_frauds['segment'] ,3 ,rwidth=0.9, color='purple', alpha=0.6, ec='k' )\n",
    "plt.show()"
   ]
  },
  {
   "cell_type": "code",
   "execution_count": 59,
   "metadata": {},
   "outputs": [
    {
     "data": {
      "text/plain": [
       "segment \n",
       "Diamond     1.901743\n",
       "Platinum    1.830664\n",
       "Gold        1.359434\n",
       "dtype: float64"
      ]
     },
     "execution_count": 59,
     "metadata": {},
     "output_type": "execute_result"
    }
   ],
   "source": [
    "g = age_frauds[['segment']].value_counts()\n",
    "h = customers[['segment']].value_counts()\n",
    "((g/h)*100).sort_values(ascending=False)\n",
    "\n",
    "# Porcentagem fraudes por segmento(segment)"
   ]
  }
 ],
 "metadata": {
  "kernelspec": {
   "display_name": "Python 3",
   "language": "python",
   "name": "python3"
  },
  "language_info": {
   "codemirror_mode": {
    "name": "ipython",
    "version": 3
   },
   "file_extension": ".py",
   "mimetype": "text/x-python",
   "name": "python",
   "nbconvert_exporter": "python",
   "pygments_lexer": "ipython3",
   "version": "3.8.5"
  }
 },
 "nbformat": 4,
 "nbformat_minor": 4
}
